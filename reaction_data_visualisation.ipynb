{
 "cells": [
  {
   "cell_type": "markdown",
   "metadata": {},
   "source": [
    "Graphs to make:\n",
    "- [ ] 1. Conversion in function of SEI\n",
    "- [ ] 2. Product yield in function of conversion with selectivity as slope\n",
    "- [ ] 5. Atom balances in function of SEI\n",
    "- [ ] 7. Product yield in function of SEI"
   ]
  },
  {
   "cell_type": "markdown",
   "metadata": {},
   "source": [
    "Step 0: Importing libraries and creating static variables"
   ]
  },
  {
   "cell_type": "code",
   "execution_count": null,
   "metadata": {},
   "outputs": [],
   "source": [
    "# Importing the libraries\n",
    "import os\n",
    "import pandas as pd\n",
    "import matplotlib.pyplot as plt\n",
    "import matplotlib.gridspec as gridspec\n",
    "import seaborn as sns\n",
    "import scipy.stats as stats\n",
    "\n",
    "import warnings\n",
    "from numpy import RankWarning\n",
    "\n",
    "# Suppress RankWarnings\n",
    "warnings.filterwarnings('ignore', category=RankWarning)"
   ]
  },
  {
   "cell_type": "code",
   "execution_count": null,
   "metadata": {},
   "outputs": [],
   "source": [
    "# Define the alpha value for the post-plasma materials\n",
    "alpha = 0.65\n",
    "\n",
    "# Define the color for each material\n",
    "packing_colors = {\n",
    "    'γ-Al₂O₃': (0/255, 0/255, 0/255),\n",
    "    '2% CuO@γ-Al₂O₃': (86/255, 180/255, 233/255),\n",
    "    '10% CuO@γ-Al₂O₃': (0/255, 114/255, 178/255),\n",
    "    '2% Fe₂O₃@γ-Al₂O₃': (230/255, 159/255, 0/255),\n",
    "    '10% Fe₂O₃@γ-Al₂O₃': (213/255, 94/255, 0/255)\n",
    "}\n",
    "\n",
    "# determine order of materials for plotting\n",
    "packing_order = [\n",
    "    'γ-Al₂O₃',\n",
    "    '2% CuO@γ-Al₂O₃',\n",
    "    '2% Fe₂O₃@γ-Al₂O₃',\n",
    "    '10% CuO@γ-Al₂O₃',\n",
    "    '10% Fe₂O₃@γ-Al₂O₃'\n",
    "]\n",
    "\n",
    "t_quantile = stats.t.ppf(1 - 0.05/2, 7)"
   ]
  },
  {
   "cell_type": "code",
   "execution_count": null,
   "metadata": {},
   "outputs": [],
   "source": [
    "# Use Times New Roman font\n",
    "plt.rcParams['font.family'] = 'serif'\n",
    "plt.rcParams['font.serif'] = 'Times New Roman'\n",
    "plt.rcParams['mathtext.fontset'] = 'custom'\n",
    "plt.rcParams['mathtext.rm'] = 'Times New Roman'\n",
    "plt.rcParams['mathtext.it'] = 'Times New Roman:italic'\n",
    "plt.rcParams['mathtext.bf'] = 'Times New Roman:bold'\n",
    "\n",
    "# Set font size\n",
    "plt.rcParams['font.size'] = 7"
   ]
  },
  {
   "cell_type": "markdown",
   "metadata": {},
   "source": [
    "Step 1: Importing & preparing data"
   ]
  },
  {
   "cell_type": "code",
   "execution_count": null,
   "metadata": {},
   "outputs": [],
   "source": [
    "# Importing the dataset\n",
    "# set the folder and file name\n",
    "folder_path = r'N:\\FWET\\FDCH\\AdsCatal\\General\\personal_work_folders\\plasmacatdesign\\co2-splitting\\uhasselt'\n",
    "file_path = os.path.join(folder_path, 'uhasselt_co2_splitting_reaction_data_combined.csv')\n",
    "\n",
    "# read the Excel file\n",
    "df = pd.read_csv(file_path)"
   ]
  },
  {
   "cell_type": "code",
   "execution_count": null,
   "metadata": {},
   "outputs": [],
   "source": [
    "# Preparing the data for all plots\n",
    "df = df.query(\n",
    "    'material in [\"HT Glass Beads\", \"GM10.3\", \"GM10.4\", \"GM11.2\", \"SiO2+TMAH+2-PrOH-220/09H\", \"SiO2+TMAH-220/03H\"]'\n",
    ").assign(\n",
    "    compound=lambda x: x['compound'].map(\n",
    "        {\n",
    "            'CO2': 'CO₂',\n",
    "            'CO': 'CO',\n",
    "            'O2': 'O₂',\n",
    "            'N2': 'N₂'\n",
    "        }\n",
    "    ),\n",
    "    material=lambda x: x['material'].map(\n",
    "        {\n",
    "            \n",
    "            'HT Glass Beads': \"SiO₂ - HT Etched\",\n",
    "            'GM10.3': 'GM10.3',\n",
    "            'GM10.4': 'GM10.4',\n",
    "            'GM11.2': 'GM11.2',\n",
    "            'SiO2+TMAH+2-PrOH-220/09H': 'SiO₂ - TMAH/2-PrOH 9 h Etched',\n",
    "            'SiO2+TMAH-220/03H': 'SiO₂ - TMAH 3 h Etched',\n",
    "        }\n",
    "    )\n",
    ")"
   ]
  },
  {
   "cell_type": "markdown",
   "metadata": {},
   "source": [
    "Step 2: Conv vs SEI"
   ]
  },
  {
   "cell_type": "code",
   "execution_count": null,
   "metadata": {},
   "outputs": [],
   "source": [
    "# Prepare the data for the conversion plotting\n",
    "df_conv = df[\n",
    "    [\n",
    "        'packing',\n",
    "        'compound',\n",
    "        'res_time_sec',\n",
    "        'conv',\n",
    "        'conv_sd'\n",
    "    ]\n",
    "].query(\n",
    "    \"compound in ['CO₂']\"\n",
    ").drop_duplicates(\n",
    ").assign(\n",
    "    conv=lambda x: x['conv'] * 100,\n",
    "    conv_sd=lambda x: x['conv_sd'] * 100,\n",
    "    sei_ideal_kjmol=lambda x: round(\n",
    "        number=30/((1-0.4774)*(17.31/x['res_time_sec']))*24.055,\n",
    "        ndigits=-1\n",
    "    ).astype(int)\n",
    ").groupby(\n",
    "    ['packing', 'res_time_sec', 'sei_ideal_kjmol']\n",
    ").agg(\n",
    "    conv_mean=('conv', 'mean'),\n",
    "    conv_sd=('conv_sd', lambda x: ((x**2).sum()**0.5)/len(x))\n",
    ").reset_index(\n",
    ").copy()"
   ]
  },
  {
   "cell_type": "code",
   "execution_count": null,
   "metadata": {},
   "outputs": [],
   "source": [
    "# Plot the conversion vs SEI\n",
    "g = sns.lmplot(\n",
    "    data=df_conv,\n",
    "    x='sei_ideal_kjmol',\n",
    "    y='conv_mean',\n",
    "    hue='packing',\n",
    "    palette=packing_colors,\n",
    "    hue_order=packing_order,\n",
    "    height=5/2.54,\n",
    "    aspect=1,\n",
    "    order=2,\n",
    "    ci=None,\n",
    "    legend=True,\n",
    "    scatter_kws={'s': 8, 'alpha': alpha},\n",
    "    line_kws={'lw': 0.9}\n",
    ").set(\n",
    "    xlabel='SEI (kJ mol⁻¹)',\n",
    "    ylabel='CO$_2$ Conversion (%)'\n",
    ")\n",
    "\n",
    "g.legend.set_title('Packing', prop={'size': 8})\n",
    "\n",
    "ax = g.axes.flatten()[0]\n",
    "\n",
    "for packing in df_conv['packing'].unique():\n",
    "    subset = df_conv[df_conv['packing'] == packing]\n",
    "    ax.errorbar(\n",
    "        x=subset['sei_ideal_kjmol'],\n",
    "        y=subset['conv_mean'],\n",
    "        yerr=subset['conv_sd'] * t_quantile,\n",
    "        fmt='none',\n",
    "        ecolor=packing_colors[packing],\n",
    "        elinewidth=0.5,\n",
    "        capsize=1,\n",
    "        capthick=0.95,\n",
    "        alpha=0.6\n",
    "    )\n",
    "\n",
    "plt.savefig(\n",
    "    r\"C:\\Users\\sbossier\\Dropbox\\Apps\\Overleaf\\ladca_desine_paper_etching\\figs\\sander_conv_vs_sei.pdf\",\n",
    "    bbox_inches='tight'\n",
    ")\n",
    "plt.show()"
   ]
  }
 ],
 "metadata": {
  "language_info": {
   "name": "python"
  }
 },
 "nbformat": 4,
 "nbformat_minor": 2
}
